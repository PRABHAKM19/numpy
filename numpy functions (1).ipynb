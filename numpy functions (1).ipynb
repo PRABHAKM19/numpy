{
 "cells": [
  {
   "cell_type": "code",
   "execution_count": 1,
   "id": "09a6918e",
   "metadata": {},
   "outputs": [],
   "source": [
    "import numpy as np"
   ]
  },
  {
   "cell_type": "code",
   "execution_count": 5,
   "id": "994ad941",
   "metadata": {},
   "outputs": [
    {
     "name": "stdout",
     "output_type": "stream",
     "text": [
      "[1 2 3 4 5 6 7 8]\n"
     ]
    }
   ],
   "source": [
    "arr=np.array([1,2,3,4]+[5,6,7,8])\n",
    "print(arr)"
   ]
  },
  {
   "cell_type": "code",
   "execution_count": 10,
   "id": "628d1ca9",
   "metadata": {},
   "outputs": [
    {
     "name": "stdout",
     "output_type": "stream",
     "text": [
      "[1 3 5]\n"
     ]
    }
   ],
   "source": [
    "print(np.arange(1,6,dtype=float))    #to print the type of data\n",
    "print(np.arange(1,6,2))   #start,end,interval"
   ]
  },
  {
   "cell_type": "code",
   "execution_count": 18,
   "id": "8d583046",
   "metadata": {},
   "outputs": [
    {
     "name": "stdout",
     "output_type": "stream",
     "text": [
      "[[0 0 0]\n",
      " [0 0 0]\n",
      " [0 0 0]]\n"
     ]
    }
   ],
   "source": [
    "print(np.zeros((3,3),dtype=int))"
   ]
  },
  {
   "cell_type": "code",
   "execution_count": 24,
   "id": "b6303ec3",
   "metadata": {},
   "outputs": [
    {
     "name": "stdout",
     "output_type": "stream",
     "text": [
      "[[5 5 5]\n",
      " [5 5 5]\n",
      " [5 5 5]]\n"
     ]
    }
   ],
   "source": [
    "print(np.full((3,3),5))"
   ]
  },
  {
   "cell_type": "code",
   "execution_count": 25,
   "id": "5fd66c8c",
   "metadata": {},
   "outputs": [
    {
     "name": "stdout",
     "output_type": "stream",
     "text": [
      "3.0\n"
     ]
    }
   ],
   "source": [
    "print(np.mean([1,2,3,4,5]))"
   ]
  },
  {
   "cell_type": "code",
   "execution_count": 28,
   "id": "c3f28a76",
   "metadata": {},
   "outputs": [
    {
     "name": "stdout",
     "output_type": "stream",
     "text": [
      "15\n"
     ]
    }
   ],
   "source": [
    "print(np.sum([1,2,3,4,5]))"
   ]
  },
  {
   "cell_type": "code",
   "execution_count": 32,
   "id": "05113475",
   "metadata": {},
   "outputs": [
    {
     "name": "stdout",
     "output_type": "stream",
     "text": [
      "[2.  2.5 3.  3.5 4. ]\n"
     ]
    }
   ],
   "source": [
    "print(np.linspace(2,4,5,6))"
   ]
  },
  {
   "cell_type": "code",
   "execution_count": 33,
   "id": "9bf8a25f",
   "metadata": {},
   "outputs": [
    {
     "name": "stdout",
     "output_type": "stream",
     "text": [
      "3.0\n"
     ]
    }
   ],
   "source": [
    "print(np.median([1,2,3,4,5]))"
   ]
  },
  {
   "cell_type": "code",
   "execution_count": 34,
   "id": "8f517561",
   "metadata": {},
   "outputs": [
    {
     "name": "stdout",
     "output_type": "stream",
     "text": [
      "1.4142135623730951\n"
     ]
    }
   ],
   "source": [
    "print(np.std([1,2,3,4,5]))"
   ]
  },
  {
   "cell_type": "code",
   "execution_count": 37,
   "id": "e824dbe4",
   "metadata": {},
   "outputs": [
    {
     "name": "stdout",
     "output_type": "stream",
     "text": [
      "(array([2, 3, 4], dtype=int64),)\n"
     ]
    }
   ],
   "source": [
    "arr=np.array([1,2,3,4,5])\n",
    "print(np.where(arr>2))"
   ]
  },
  {
   "cell_type": "code",
   "execution_count": 40,
   "id": "c85e183f",
   "metadata": {},
   "outputs": [
    {
     "name": "stdout",
     "output_type": "stream",
     "text": [
      "[3 5]\n"
     ]
    }
   ],
   "source": [
    "arr=np.array([1,2,3,4,5])\n",
    "print(np.take(arr,[2,4]))"
   ]
  },
  {
   "cell_type": "code",
   "execution_count": 55,
   "id": "5d5fcd3c",
   "metadata": {
    "scrolled": true
   },
   "outputs": [
    {
     "name": "stdout",
     "output_type": "stream",
     "text": [
      "[[1 1 2 2]\n",
      " [4 4 5 5]]\n"
     ]
    }
   ],
   "source": [
    "# print(np.repeat([[1,3],[4,5]],1,axis=1))\n",
    "arr=np.array([[1,2],[4,5]])\n",
    "print(np.repeat(arr,2,axis=1))"
   ]
  },
  {
   "cell_type": "code",
   "execution_count": 63,
   "id": "fadea0e7",
   "metadata": {},
   "outputs": [
    {
     "name": "stdout",
     "output_type": "stream",
     "text": [
      "[[1 2 3 4 5 5 4 2 1 8]\n",
      " [6 7 8 9 0 4 5 2 6 1]]\n"
     ]
    }
   ],
   "source": [
    "a1=np.array([[1,2,3,4,5],[6,7,8,9,0]])\n",
    "a2=np.array([[5,4,2,1,8],[4,5,2,6,1]])\n",
    "# print(np.concatenate([a1,a2],axis=0))\n",
    "print(np.concatenate([a1,a2]))"
   ]
  },
  {
   "cell_type": "code",
   "execution_count": 64,
   "id": "9ec95848",
   "metadata": {},
   "outputs": [
    {
     "name": "stdout",
     "output_type": "stream",
     "text": [
      "[[1 2 3 4 5]\n",
      " [6 7 8 9 0]\n",
      " [5 4 2 1 8]\n",
      " [4 5 2 6 1]]\n"
     ]
    }
   ],
   "source": [
    "a1=np.array([[1,2,3,4,5],[6,7,8,9,0]])\n",
    "a2=np.array([[5,4,2,1,8],[4,5,2,6,1]])\n",
    "# print(np.hstack([a1,a2]))\n",
    "print(np.vstack([a1,a2]))"
   ]
  },
  {
   "cell_type": "code",
   "execution_count": 69,
   "id": "3c01f098",
   "metadata": {},
   "outputs": [
    {
     "name": "stdout",
     "output_type": "stream",
     "text": [
      "[ 1  4  9 16 25]\n"
     ]
    }
   ],
   "source": [
    "arr=np.array([1,2,3,4,5])\n",
    "print(arr**2)"
   ]
  },
  {
   "cell_type": "code",
   "execution_count": 77,
   "id": "aebb8d29",
   "metadata": {},
   "outputs": [
    {
     "name": "stdout",
     "output_type": "stream",
     "text": [
      "[1 1 1 1]\n"
     ]
    }
   ],
   "source": [
    "a1=np.array([1,2,3,4,5])\n",
    "a2=np.array([6,7,8,9,0])\n",
    "print(np.diff(a1))"
   ]
  },
  {
   "cell_type": "code",
   "execution_count": 81,
   "id": "c6ea6ac4",
   "metadata": {
    "scrolled": true
   },
   "outputs": [
    {
     "ename": "AxisError",
     "evalue": "axisa: axis 1 is out of bounds for array of dimension 1",
     "output_type": "error",
     "traceback": [
      "\u001b[1;31m---------------------------------------------------------------------------\u001b[0m",
      "\u001b[1;31mAxisError\u001b[0m                                 Traceback (most recent call last)",
      "Cell \u001b[1;32mIn[81], line 3\u001b[0m\n\u001b[0;32m      1\u001b[0m a1\u001b[38;5;241m=\u001b[39mnp\u001b[38;5;241m.\u001b[39marray([\u001b[38;5;241m1\u001b[39m,\u001b[38;5;241m2\u001b[39m,\u001b[38;5;241m3\u001b[39m,\u001b[38;5;241m4\u001b[39m,\u001b[38;5;241m5\u001b[39m])\n\u001b[0;32m      2\u001b[0m a2\u001b[38;5;241m=\u001b[39mnp\u001b[38;5;241m.\u001b[39marray([\u001b[38;5;241m6\u001b[39m,\u001b[38;5;241m7\u001b[39m,\u001b[38;5;241m8\u001b[39m,\u001b[38;5;241m9\u001b[39m,\u001b[38;5;241m0\u001b[39m])\n\u001b[1;32m----> 3\u001b[0m \u001b[38;5;28mprint\u001b[39m(np\u001b[38;5;241m.\u001b[39mcross(a1,a2,axis\u001b[38;5;241m=\u001b[39m\u001b[38;5;241m1\u001b[39m))\n",
      "File \u001b[1;32m<__array_function__ internals>:200\u001b[0m, in \u001b[0;36mcross\u001b[1;34m(*args, **kwargs)\u001b[0m\n",
      "File \u001b[1;32mC:\\ProgramData\\anaconda3\\Lib\\site-packages\\numpy\\core\\numeric.py:1605\u001b[0m, in \u001b[0;36mcross\u001b[1;34m(a, b, axisa, axisb, axisc, axis)\u001b[0m\n\u001b[0;32m   1603\u001b[0m b \u001b[38;5;241m=\u001b[39m asarray(b)\n\u001b[0;32m   1604\u001b[0m \u001b[38;5;66;03m# Check axisa and axisb are within bounds\u001b[39;00m\n\u001b[1;32m-> 1605\u001b[0m axisa \u001b[38;5;241m=\u001b[39m normalize_axis_index(axisa, a\u001b[38;5;241m.\u001b[39mndim, msg_prefix\u001b[38;5;241m=\u001b[39m\u001b[38;5;124m'\u001b[39m\u001b[38;5;124maxisa\u001b[39m\u001b[38;5;124m'\u001b[39m)\n\u001b[0;32m   1606\u001b[0m axisb \u001b[38;5;241m=\u001b[39m normalize_axis_index(axisb, b\u001b[38;5;241m.\u001b[39mndim, msg_prefix\u001b[38;5;241m=\u001b[39m\u001b[38;5;124m'\u001b[39m\u001b[38;5;124maxisb\u001b[39m\u001b[38;5;124m'\u001b[39m)\n\u001b[0;32m   1608\u001b[0m \u001b[38;5;66;03m# Move working axis to the end of the shape\u001b[39;00m\n",
      "\u001b[1;31mAxisError\u001b[0m: axisa: axis 1 is out of bounds for array of dimension 1"
     ]
    }
   ],
   "source": [
    "a1=np.array([1,2,3,4,5])\n",
    "a2=np.array([6,7,8,9,0])\n",
    "print(np.cross(a1,a2,axis=1))"
   ]
  }
 ],
 "metadata": {
  "kernelspec": {
   "display_name": "Python 3 (ipykernel)",
   "language": "python",
   "name": "python3"
  },
  "language_info": {
   "codemirror_mode": {
    "name": "ipython",
    "version": 3
   },
   "file_extension": ".py",
   "mimetype": "text/x-python",
   "name": "python",
   "nbconvert_exporter": "python",
   "pygments_lexer": "ipython3",
   "version": "3.11.5"
  }
 },
 "nbformat": 4,
 "nbformat_minor": 5
}
